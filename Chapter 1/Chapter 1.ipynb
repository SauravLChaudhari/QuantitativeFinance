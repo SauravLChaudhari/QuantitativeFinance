{
 "cells": [
  {
   "cell_type": "code",
   "execution_count": null,
   "id": "fe76ac59-c482-45e7-b630-ed0fed736711",
   "metadata": {},
   "outputs": [],
   "source": [
    "pip install yfinance"
   ]
  },
  {
   "cell_type": "code",
   "execution_count": 1,
   "id": "cfd96172-5948-47a1-a8c9-b24477283413",
   "metadata": {},
   "outputs": [
    {
     "name": "stderr",
     "output_type": "stream",
     "text": [
      "[*********************100%***********************]  1 of 1 completed"
     ]
    },
    {
     "name": "stdout",
     "output_type": "stream",
     "text": [
      "Price                       Adj Close       Close        High         Low  \\\n",
      "Ticker                    RELIANCE.NS RELIANCE.NS RELIANCE.NS RELIANCE.NS   \n",
      "Date                                                                        \n",
      "2020-01-01 00:00:00+00:00  672.908142  690.138306  698.138733  688.263977   \n",
      "2020-01-02 00:00:00+00:00  684.364075  701.887512  704.470520  691.235535   \n",
      "2020-01-03 00:00:00+00:00  685.188721  702.733276  704.790527  696.264343   \n",
      "2020-01-06 00:00:00+00:00  669.297607  686.435303  698.504456  684.835205   \n",
      "2020-01-07 00:00:00+00:00  679.594421  696.995850  701.521790  691.921265   \n",
      "\n",
      "Price                            Open      Volume  \n",
      "Ticker                    RELIANCE.NS RELIANCE.NS  \n",
      "Date                                               \n",
      "2020-01-01 00:00:00+00:00  693.978516    14004468  \n",
      "2020-01-02 00:00:00+00:00  691.235535    17710316  \n",
      "2020-01-03 00:00:00+00:00  700.835999    20984698  \n",
      "2020-01-06 00:00:00+00:00  694.892883    24519177  \n",
      "2020-01-07 00:00:00+00:00  694.435669    16683622  \n"
     ]
    },
    {
     "name": "stderr",
     "output_type": "stream",
     "text": [
      "\n"
     ]
    }
   ],
   "source": [
    "#Downloading Historical Data using YFinance\n",
    "\n",
    "\n",
    "\n",
    "import yfinance as yf\n",
    "\n",
    "# Define the ticker symbol\n",
    "ticker = 'RELIANCE.NS'\n",
    "\n",
    "# Get historical market data\n",
    "data = yf.download(ticker, start='2020-01-01', end='2023-01-01')\n",
    "\n",
    "# Display the first few rows of the data\n",
    "print(data.head())"
   ]
  },
  {
   "cell_type": "code",
   "execution_count": 2,
   "id": "6b8fe2be-821d-480f-a35e-31ce5b0e9eb5",
   "metadata": {},
   "outputs": [
    {
     "name": "stdout",
     "output_type": "stream",
     "text": [
      "Real-time price for RELIANCE.NS: 1293.199951171875\n"
     ]
    }
   ],
   "source": [
    "#Getting Real-Time Data using YFinance\n",
    "\n",
    "\n",
    "\n",
    "\n",
    "import yfinance as yf\n",
    "\n",
    "# Define the ticker symbol\n",
    "ticker = 'RELIANCE.NS'\n",
    "\n",
    "# Get the ticker object\n",
    "stock = yf.Ticker(ticker)\n",
    "\n",
    "# Get real-time price data\n",
    "price = stock.history(period=\"1d\")['Close'][0]\n",
    "print(f\"Real-time price for {ticker}: {price}\")"
   ]
  },
  {
   "cell_type": "code",
   "execution_count": 3,
   "id": "81c8a7e1-80bf-4ca3-ac46-24ab1d5b0257",
   "metadata": {},
   "outputs": [
    {
     "name": "stdout",
     "output_type": "stream",
     "text": [
      "Balance Sheet:\n",
      "                             2024-03-31       2023-03-31       2022-03-31  \\\n",
      "Ordinary Shares Number     6766109014.0     6766094014.0     6765994014.0   \n",
      "Share Issued               6766109014.0     6766094014.0     6765994014.0   \n",
      "Net Debt                2310820000000.0  2798100000000.0  2327960000000.0   \n",
      "Total Debt              3461420000000.0  3343920000000.0  2819740000000.0   \n",
      "Tangible Book Value     4331070000000.0  3850770000000.0  5476870000000.0   \n",
      "\n",
      "                             2021-03-31 2020-03-31  \n",
      "Ordinary Shares Number     6762068814.0        NaN  \n",
      "Share Issued               6762068814.0        NaN  \n",
      "Net Debt                2373050000000.0        NaN  \n",
      "Total Debt              2601250000000.0        NaN  \n",
      "Tangible Book Value     5551980000000.0        NaN  \n",
      "\n",
      "Income Statement:\n",
      "                                             2024-03-31       2023-03-31  \\\n",
      "Tax Effect Of Unusual Items                4065480000.0    -3185730000.0   \n",
      "Tax Rate For Calcs                               0.2455           0.2185   \n",
      "Normalized EBITDA                       1756750000000.0  1547650000000.0   \n",
      "Total Unusual Items                       16560000000.0   -14580000000.0   \n",
      "Total Unusual Items Excluding Goodwill    16560000000.0   -14580000000.0   \n",
      "\n",
      "                                             2022-03-31      2021-03-31  \\\n",
      "Tax Effect Of Unusual Items                8188344000.0    3659070000.0   \n",
      "Tax Rate For Calcs                               0.2004          0.0345   \n",
      "Normalized EBITDA                       1222880000000.0  893340000000.0   \n",
      "Total Unusual Items                       40860000000.0  106060000000.0   \n",
      "Total Unusual Items Excluding Goodwill    40860000000.0  106060000000.0   \n",
      "\n",
      "                                       2020-03-31  \n",
      "Tax Effect Of Unusual Items                   NaN  \n",
      "Tax Rate For Calcs                            NaN  \n",
      "Normalized EBITDA                             NaN  \n",
      "Total Unusual Items                           NaN  \n",
      "Total Unusual Items Excluding Goodwill        NaN  \n"
     ]
    }
   ],
   "source": [
    "#Accessing Financial Statements using YFinance\n",
    "\n",
    "\n",
    "\n",
    "\n",
    "import yfinance as yf\n",
    "\n",
    "# Define the ticker symbol\n",
    "ticker = 'RELIANCE.NS'\n",
    "\n",
    "# Get the ticker object\n",
    "stock = yf.Ticker(ticker)\n",
    "\n",
    "# Get the balance sheet\n",
    "balance_sheet = stock.balance_sheet\n",
    "print(\"Balance Sheet:\")\n",
    "print(balance_sheet.head())\n",
    "\n",
    "# Get the income statement\n",
    "income_statement = stock.financials\n",
    "print(\"\\nIncome Statement:\")\n",
    "print(income_statement.head())"
   ]
  },
  {
   "cell_type": "code",
   "execution_count": 4,
   "id": "ab5c8a8b-f673-4bc7-b186-c45adadd1c15",
   "metadata": {},
   "outputs": [
    {
     "name": "stdout",
     "output_type": "stream",
     "text": [
      "Company: Reliance Industries Limited\n",
      "Sector: Energy\n",
      "Industry: Oil & Gas Refining & Marketing\n",
      "Market Cap: 17500098002944\n",
      "P/E Ratio: 25.791782\n"
     ]
    }
   ],
   "source": [
    "#Getting Ticker Information using YFinance Library\n",
    "\n",
    "\n",
    "\n",
    "\n",
    "import yfinance as yf\n",
    "\n",
    "# Define the ticker symbol\n",
    "ticker = 'RELIANCE.NS'\n",
    "\n",
    "# Get the ticker object\n",
    "stock = yf.Ticker(ticker)\n",
    "\n",
    "# Get basic information\n",
    "info = stock.info\n",
    "print(f\"Company: {info['longName']}\")\n",
    "print(f\"Sector: {info['sector']}\")\n",
    "print(f\"Industry: {info['industry']}\")\n",
    "print(f\"Market Cap: {info['marketCap']}\")\n",
    "print(f\"P/E Ratio: {info['trailingPE']}\")"
   ]
  },
  {
   "cell_type": "code",
   "execution_count": 5,
   "id": "7312e45e-42b2-4499-bc03-78dd3bba5e9a",
   "metadata": {},
   "outputs": [
    {
     "name": "stdout",
     "output_type": "stream",
     "text": [
      "Dividends:\n",
      "Date\n",
      "1996-05-24 00:00:00+05:30    0.371479\n",
      "1997-05-16 00:00:00+05:30    0.804871\n",
      "1998-05-06 00:00:00+05:30    0.866784\n",
      "1999-05-07 00:00:00+05:30    0.928697\n",
      "2000-04-06 00:00:00+05:30    0.495305\n",
      "Name: Dividends, dtype: float64\n"
     ]
    }
   ],
   "source": [
    "#Retrieving Dividends Data using Yfinance\n",
    "\n",
    "\n",
    "\n",
    "\n",
    "import yfinance as yf\n",
    "\n",
    "# Define the ticker symbol\n",
    "ticker = 'RELIANCE.NS'\n",
    "\n",
    "# Get the ticker object\n",
    "stock = yf.Ticker(ticker)\n",
    "\n",
    "# Get dividends data\n",
    "dividends = stock.dividends\n",
    "print(\"Dividends:\")\n",
    "print(dividends.head())"
   ]
  },
  {
   "cell_type": "code",
   "execution_count": null,
   "id": "3b3566b8-ea1b-47a2-98f6-d4e8aca6552d",
   "metadata": {},
   "outputs": [],
   "source": []
  }
 ],
 "metadata": {
  "kernelspec": {
   "display_name": "Python 3 (ipykernel)",
   "language": "python",
   "name": "python3"
  },
  "language_info": {
   "codemirror_mode": {
    "name": "ipython",
    "version": 3
   },
   "file_extension": ".py",
   "mimetype": "text/x-python",
   "name": "python",
   "nbconvert_exporter": "python",
   "pygments_lexer": "ipython3",
   "version": "3.11.8"
  }
 },
 "nbformat": 4,
 "nbformat_minor": 5
}
